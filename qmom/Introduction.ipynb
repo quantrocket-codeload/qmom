{
 "cells": [
  {
   "cell_type": "markdown",
   "metadata": {},
   "source": [
    "<a href=\"https://www.quantrocket.com\"><img alt=\"QuantRocket logo\" src=\"https://www.quantrocket.com/assets/img/notebook-header-logo.png\"></a>\n",
    "\n",
    "<a href=\"https://www.quantrocket.com/disclaimer/\">Disclaimer</a>"
   ]
  },
  {
   "cell_type": "markdown",
   "metadata": {},
   "source": [
    "# QMOM: Quantitative Momentum\n",
    "\n",
    "This repository implements a long-only momentum strategy modeled on [Alpha Architect's QMOM ETF](https://etfsite.alphaarchitect.com/qmom/). QMOM provides a couple of enhancements to traditional momentum strategies, including selecting stocks with the smoothest momentum and rebalancing the portfolio before quarter end to capture a window-dressing seasonality effect.\n",
    "\n",
    "The rules of the QMOM strategy as outlined in the Alpha Architect white paper are:\n",
    "\n",
    "1. Universe selection\n",
    "    1. Starting universe: all NYSE stocks\n",
    "    2. Exclude financials, ADRs, REITs\n",
    "    3. Liquidity screen: select top N percent of stocks by market cap (N=60)\n",
    "2. Apply momentum screen: calculate 12-month returns, excluding most recent month, and select N percent of stocks with best return (N=10)\n",
    "3. Filter by smoothness of momentum: of the momentum stocks, select the N percent with the smoothest momentum, as measured by the number of positive days in the last 12 months (N=50)\n",
    "4. Apply equal weights    \n",
    "5. Rebalance portfolio before quarter-end to capture window-dressing seasonality effect "
   ]
  },
  {
   "cell_type": "markdown",
   "metadata": {},
   "source": [
    "## Prerequisites\n",
    "\n",
    "QVAL and QMOM make up the value and momentum portions, respectively, of the Alpha Architect VMOT (Value/Momentum/Trend) strategy. QMOM can be run independently of QVAL or VMOT. However, because the QMOM universe is identical to the QVAL universe, this tutorial relies on the data collection and universe selection of the QVAL tutorial. Please see that tutorial for help collecting the data and creating the universes.\n",
    "\n",
    "See also:\n",
    "\n",
    "* QVAL: `quantrocket codeload clone 'qval'`\n",
    "* VMOT: `quantrocket codeload clone 'vmot'`"
   ]
  },
  {
   "cell_type": "markdown",
   "metadata": {},
   "source": [
    "## Contents\n",
    "\n",
    "* Part 1: [Interactive Strategy Development](Part1-Interactive-Strategy-Development.ipynb)\n",
    "* Part 2: [Moonshot Backtest](Part2-Moonshot-Backtest.ipynb)\n",
    "* Part 3: [Parameter Scans](Part3-Parameter-Scans.ipynb)"
   ]
  }
 ],
 "metadata": {
  "kernelspec": {
   "display_name": "Python 3",
   "language": "python",
   "name": "python3"
  },
  "language_info": {
   "codemirror_mode": {
    "name": "ipython",
    "version": 3
   },
   "file_extension": ".py",
   "mimetype": "text/x-python",
   "name": "python",
   "nbconvert_exporter": "python",
   "pygments_lexer": "ipython3",
   "version": "3.6.6"
  }
 },
 "nbformat": 4,
 "nbformat_minor": 4
}
