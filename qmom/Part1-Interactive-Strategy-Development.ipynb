{
 "cells": [
  {
   "cell_type": "markdown",
   "metadata": {},
   "source": [
    "<a href=\"https://www.quantrocket.com\"><img alt=\"QuantRocket logo\" src=\"https://www.quantrocket.com/assets/img/notebook-header-logo.png\"></a><br>\n",
    "<a href=\"https://www.quantrocket.com/disclaimer/\">Disclaimer</a>"
   ]
  },
  {
   "cell_type": "markdown",
   "metadata": {},
   "source": [
    "***\n",
    "[QMOM: Quantitative Momentum](Introduction.ipynb) › Part 1: Interactive Strategy Development\n",
    "***"
   ]
  },
  {
   "cell_type": "markdown",
   "metadata": {},
   "source": [
    "# Interactive Strategy Development\n",
    "\n",
    "We'll develop our strategy logic interactively in a notebook, peeking at the DataFrames as we go, then transfer the code to a `.py` file for backtesting with Moonshot.\n",
    "\n",
    "As a reminder, the rules of the QMOM strategy as outlined in the Alpha Architect white paper are:\n",
    "\n",
    "1. Universe selection\n",
    "    1. Starting universe: all NYSE stocks\n",
    "    2. Exclude financials, ADRs, REITs\n",
    "    3. Liquidity screen: select top N percent of stocks by market cap (N=60)\n",
    "2. Apply momentum screen: calculate 12-month returns, excluding most recent month, and select N percent of stocks with best return (N=10)\n",
    "3. Filter by smoothness of momentum: of the momentum stocks, select the N percent with the smoothest momentum, as measured by the number of positive days in the last 12 months (N=50)\n",
    "4. Apply equal weights    \n",
    "5. Rebalance portfolio before quarter-end to capture window-dressing seasonality effect "
   ]
  },
  {
   "cell_type": "markdown",
   "metadata": {},
   "source": [
    "## Query historical prices\n",
    "\n",
    "Start by querying historical prices from your Sharadar history database. We specify our universe of NYSE stocks as well as the universes we wish to exclude. \n",
    "\n",
    "For now we limit ourselves to a couple years of data to make it easier to work with. Later we'll run a backtest using a larger date range."
   ]
  },
  {
   "cell_type": "code",
   "execution_count": 1,
   "metadata": {},
   "outputs": [],
   "source": [
    "from quantrocket import get_prices\n",
    "\n",
    "DB = \"sharadar-us-stk-1d\"\n",
    "UNIVERSES = \"nyse-stk\"\n",
    "EXCLUDE_UNIVERSES = [\"nyse-financials\", \"nyse-reits\", \"nyse-adrs\"]\n",
    "\n",
    "prices = get_prices(DB, \n",
    "                    start_date=\"2014-01-01\",\n",
    "                    end_date=\"2016-01-01\", \n",
    "                    universes=UNIVERSES,\n",
    "                    exclude_universes=EXCLUDE_UNIVERSES, \n",
    "                    fields=[\"Close\", \"Volume\"])"
   ]
  },
  {
   "cell_type": "markdown",
   "metadata": {},
   "source": [
    "## Step 1.C: Filter by dollar volume\n",
    "\n",
    "The QMOM white paper calls for limiting the universe to the top 60% of stocks by market cap. We will use dollar volume as a proxy for market cap.\n",
    "\n",
    "The code below will compute daily ranks by dollar volume and give us a boolean mask indicating which stocks have adequate dollar volume."
   ]
  },
  {
   "cell_type": "code",
   "execution_count": 2,
   "metadata": {},
   "outputs": [
    {
     "data": {
      "text/html": [
       "<div>\n",
       "<style scoped>\n",
       "    .dataframe tbody tr th:only-of-type {\n",
       "        vertical-align: middle;\n",
       "    }\n",
       "\n",
       "    .dataframe tbody tr th {\n",
       "        vertical-align: top;\n",
       "    }\n",
       "\n",
       "    .dataframe thead th {\n",
       "        text-align: right;\n",
       "    }\n",
       "</style>\n",
       "<table border=\"1\" class=\"dataframe\">\n",
       "  <thead>\n",
       "    <tr style=\"text-align: right;\">\n",
       "      <th>Sid</th>\n",
       "      <th>FIBBG0000018G2</th>\n",
       "      <th>FIBBG000001J87</th>\n",
       "      <th>FIBBG000001JC2</th>\n",
       "      <th>FIBBG000001JD1</th>\n",
       "      <th>FIBBG000001NT5</th>\n",
       "      <th>FIBBG000001NV2</th>\n",
       "      <th>FIBBG000001SF9</th>\n",
       "      <th>FIBBG000002791</th>\n",
       "      <th>FIBBG0000027B8</th>\n",
       "      <th>FIBBG000002WJ5</th>\n",
       "      <th>...</th>\n",
       "      <th>QA000000001978</th>\n",
       "      <th>QA000000001981</th>\n",
       "      <th>QA000000001995</th>\n",
       "      <th>QA000000014708</th>\n",
       "      <th>QA000000014977</th>\n",
       "      <th>QA000000017129</th>\n",
       "      <th>QA000000018169</th>\n",
       "      <th>QA000000020127</th>\n",
       "      <th>QA000000021599</th>\n",
       "      <th>QA000000021660</th>\n",
       "    </tr>\n",
       "    <tr>\n",
       "      <th>Date</th>\n",
       "      <th></th>\n",
       "      <th></th>\n",
       "      <th></th>\n",
       "      <th></th>\n",
       "      <th></th>\n",
       "      <th></th>\n",
       "      <th></th>\n",
       "      <th></th>\n",
       "      <th></th>\n",
       "      <th></th>\n",
       "      <th></th>\n",
       "      <th></th>\n",
       "      <th></th>\n",
       "      <th></th>\n",
       "      <th></th>\n",
       "      <th></th>\n",
       "      <th></th>\n",
       "      <th></th>\n",
       "      <th></th>\n",
       "      <th></th>\n",
       "      <th></th>\n",
       "    </tr>\n",
       "  </thead>\n",
       "  <tbody>\n",
       "    <tr>\n",
       "      <th>2015-12-24</th>\n",
       "      <td>False</td>\n",
       "      <td>False</td>\n",
       "      <td>False</td>\n",
       "      <td>False</td>\n",
       "      <td>False</td>\n",
       "      <td>False</td>\n",
       "      <td>False</td>\n",
       "      <td>False</td>\n",
       "      <td>False</td>\n",
       "      <td>False</td>\n",
       "      <td>...</td>\n",
       "      <td>False</td>\n",
       "      <td>False</td>\n",
       "      <td>False</td>\n",
       "      <td>False</td>\n",
       "      <td>False</td>\n",
       "      <td>False</td>\n",
       "      <td>False</td>\n",
       "      <td>False</td>\n",
       "      <td>False</td>\n",
       "      <td>True</td>\n",
       "    </tr>\n",
       "    <tr>\n",
       "      <th>2015-12-28</th>\n",
       "      <td>False</td>\n",
       "      <td>False</td>\n",
       "      <td>False</td>\n",
       "      <td>False</td>\n",
       "      <td>False</td>\n",
       "      <td>False</td>\n",
       "      <td>False</td>\n",
       "      <td>False</td>\n",
       "      <td>False</td>\n",
       "      <td>False</td>\n",
       "      <td>...</td>\n",
       "      <td>False</td>\n",
       "      <td>False</td>\n",
       "      <td>False</td>\n",
       "      <td>False</td>\n",
       "      <td>False</td>\n",
       "      <td>False</td>\n",
       "      <td>False</td>\n",
       "      <td>False</td>\n",
       "      <td>False</td>\n",
       "      <td>True</td>\n",
       "    </tr>\n",
       "    <tr>\n",
       "      <th>2015-12-29</th>\n",
       "      <td>False</td>\n",
       "      <td>False</td>\n",
       "      <td>False</td>\n",
       "      <td>False</td>\n",
       "      <td>False</td>\n",
       "      <td>False</td>\n",
       "      <td>False</td>\n",
       "      <td>False</td>\n",
       "      <td>False</td>\n",
       "      <td>False</td>\n",
       "      <td>...</td>\n",
       "      <td>False</td>\n",
       "      <td>False</td>\n",
       "      <td>False</td>\n",
       "      <td>False</td>\n",
       "      <td>False</td>\n",
       "      <td>False</td>\n",
       "      <td>False</td>\n",
       "      <td>False</td>\n",
       "      <td>False</td>\n",
       "      <td>True</td>\n",
       "    </tr>\n",
       "    <tr>\n",
       "      <th>2015-12-30</th>\n",
       "      <td>False</td>\n",
       "      <td>False</td>\n",
       "      <td>False</td>\n",
       "      <td>False</td>\n",
       "      <td>False</td>\n",
       "      <td>False</td>\n",
       "      <td>False</td>\n",
       "      <td>False</td>\n",
       "      <td>False</td>\n",
       "      <td>False</td>\n",
       "      <td>...</td>\n",
       "      <td>False</td>\n",
       "      <td>False</td>\n",
       "      <td>False</td>\n",
       "      <td>False</td>\n",
       "      <td>False</td>\n",
       "      <td>False</td>\n",
       "      <td>False</td>\n",
       "      <td>False</td>\n",
       "      <td>False</td>\n",
       "      <td>True</td>\n",
       "    </tr>\n",
       "    <tr>\n",
       "      <th>2015-12-31</th>\n",
       "      <td>False</td>\n",
       "      <td>False</td>\n",
       "      <td>False</td>\n",
       "      <td>False</td>\n",
       "      <td>False</td>\n",
       "      <td>False</td>\n",
       "      <td>False</td>\n",
       "      <td>False</td>\n",
       "      <td>False</td>\n",
       "      <td>False</td>\n",
       "      <td>...</td>\n",
       "      <td>False</td>\n",
       "      <td>False</td>\n",
       "      <td>False</td>\n",
       "      <td>False</td>\n",
       "      <td>False</td>\n",
       "      <td>False</td>\n",
       "      <td>False</td>\n",
       "      <td>False</td>\n",
       "      <td>False</td>\n",
       "      <td>True</td>\n",
       "    </tr>\n",
       "  </tbody>\n",
       "</table>\n",
       "<p>5 rows × 1600 columns</p>\n",
       "</div>"
      ],
      "text/plain": [
       "Sid         FIBBG0000018G2  FIBBG000001J87  FIBBG000001JC2  FIBBG000001JD1  \\\n",
       "Date                                                                         \n",
       "2015-12-24           False           False           False           False   \n",
       "2015-12-28           False           False           False           False   \n",
       "2015-12-29           False           False           False           False   \n",
       "2015-12-30           False           False           False           False   \n",
       "2015-12-31           False           False           False           False   \n",
       "\n",
       "Sid         FIBBG000001NT5  FIBBG000001NV2  FIBBG000001SF9  FIBBG000002791  \\\n",
       "Date                                                                         \n",
       "2015-12-24           False           False           False           False   \n",
       "2015-12-28           False           False           False           False   \n",
       "2015-12-29           False           False           False           False   \n",
       "2015-12-30           False           False           False           False   \n",
       "2015-12-31           False           False           False           False   \n",
       "\n",
       "Sid         FIBBG0000027B8  FIBBG000002WJ5  ...  QA000000001978  \\\n",
       "Date                                        ...                   \n",
       "2015-12-24           False           False  ...           False   \n",
       "2015-12-28           False           False  ...           False   \n",
       "2015-12-29           False           False  ...           False   \n",
       "2015-12-30           False           False  ...           False   \n",
       "2015-12-31           False           False  ...           False   \n",
       "\n",
       "Sid         QA000000001981  QA000000001995  QA000000014708  QA000000014977  \\\n",
       "Date                                                                         \n",
       "2015-12-24           False           False           False           False   \n",
       "2015-12-28           False           False           False           False   \n",
       "2015-12-29           False           False           False           False   \n",
       "2015-12-30           False           False           False           False   \n",
       "2015-12-31           False           False           False           False   \n",
       "\n",
       "Sid         QA000000017129  QA000000018169  QA000000020127  QA000000021599  \\\n",
       "Date                                                                         \n",
       "2015-12-24           False           False           False           False   \n",
       "2015-12-28           False           False           False           False   \n",
       "2015-12-29           False           False           False           False   \n",
       "2015-12-30           False           False           False           False   \n",
       "2015-12-31           False           False           False           False   \n",
       "\n",
       "Sid         QA000000021660  \n",
       "Date                        \n",
       "2015-12-24            True  \n",
       "2015-12-28            True  \n",
       "2015-12-29            True  \n",
       "2015-12-30            True  \n",
       "2015-12-31            True  \n",
       "\n",
       "[5 rows x 1600 columns]"
      ]
     },
     "execution_count": 2,
     "metadata": {},
     "output_type": "execute_result"
    }
   ],
   "source": [
    "closes = prices.loc[\"Close\"]\n",
    "volumes = prices.loc[\"Volume\"]\n",
    "\n",
    "# calculate 90 day average dollar volume\n",
    "avg_dollar_volumes = (closes * volumes).rolling(90).mean()\n",
    "\n",
    "# rank biggest to smallest; pct=True gives percentile ranks between 0-1\n",
    "dollar_volume_ranks = avg_dollar_volumes.rank(axis=1, ascending=False, pct=True)\n",
    "        \n",
    "have_adequate_dollar_volumes = dollar_volume_ranks <= (0.60)\n",
    "have_adequate_dollar_volumes.tail()"
   ]
  },
  {
   "cell_type": "markdown",
   "metadata": {},
   "source": [
    "We'll use this filter in the next step."
   ]
  },
  {
   "cell_type": "markdown",
   "metadata": {},
   "source": [
    "## Step 2: Apply momentum screen\n",
    "\n",
    "Next, we identify the 10% of stocks with the strongest 12-month momentum, excluding the most recent month. First calculate the returns:"
   ]
  },
  {
   "cell_type": "code",
   "execution_count": 3,
   "metadata": {},
   "outputs": [],
   "source": [
    "TRADING_DAYS_PER_YEAR = 252\n",
    "TRADING_DAYS_PER_MONTH = 22\n",
    "year_ago_closes = closes.shift(TRADING_DAYS_PER_YEAR)\n",
    "month_ago_closes = closes.shift(TRADING_DAYS_PER_MONTH)\n",
    "returns = (month_ago_closes - year_ago_closes) / year_ago_closes.where(year_ago_closes != 0) # avoid DivisionByZero errors"
   ]
  },
  {
   "cell_type": "markdown",
   "metadata": {},
   "source": [
    "We identify momentum stocks by ranking on returns, but we only apply the rankings to stocks with adequate dollar volume:"
   ]
  },
  {
   "cell_type": "code",
   "execution_count": 4,
   "metadata": {},
   "outputs": [],
   "source": [
    "returns_ranks = returns.where(have_adequate_dollar_volumes).rank(axis=1, ascending=False, pct=True)\n",
    "have_momentum = returns_ranks <= 0.10"
   ]
  },
  {
   "cell_type": "markdown",
   "metadata": {},
   "source": [
    "## Step 3: Filter by smoothness of momentum\n",
    "\n",
    "The next step is to rank the momentum stocks by the smoothness of their momentum and select the top 50%. To calculate \"smoothness,\" we count the number of days with a positive return over the last 12 months. The basic idea as explained in the white paper is that a stock which was mediocre for most of the year but made giant gains over a short period is not as appealing as a stock which rose more steadily over the course of the year. \n",
    "\n",
    "First, get a rolling count of positive days in the last year:"
   ]
  },
  {
   "cell_type": "code",
   "execution_count": 5,
   "metadata": {},
   "outputs": [],
   "source": [
    "are_positive_days = closes.pct_change() > 0\n",
    "positive_days_last_twelve_months = are_positive_days.astype(int).rolling(TRADING_DAYS_PER_YEAR).sum()"
   ]
  },
  {
   "cell_type": "markdown",
   "metadata": {},
   "source": [
    "Then, rank and filter to select the stocks with smoothest momentum:"
   ]
  },
  {
   "cell_type": "code",
   "execution_count": 6,
   "metadata": {},
   "outputs": [],
   "source": [
    "positive_days_last_twelve_months_ranks = positive_days_last_twelve_months.where(have_momentum).rank(axis=1, ascending=False, pct=True)\n",
    "have_smooth_momentum = positive_days_last_twelve_months_ranks <= 0.50"
   ]
  },
  {
   "cell_type": "markdown",
   "metadata": {},
   "source": [
    "These stocks are our long signals: "
   ]
  },
  {
   "cell_type": "code",
   "execution_count": 7,
   "metadata": {},
   "outputs": [],
   "source": [
    "long_signals = have_smooth_momentum.astype(int)"
   ]
  },
  {
   "cell_type": "markdown",
   "metadata": {},
   "source": [
    "## Step 4: Apply equal weights\n",
    "\n",
    "The QMOM strategy trades an equal-weighted portfolio. By convention, for an unlevered strategy the daily weights should add up to 1 (=100% invested), so we divide each day's signals by the number of signals to get the individual position weights:  "
   ]
  },
  {
   "cell_type": "code",
   "execution_count": 8,
   "metadata": {},
   "outputs": [
    {
     "data": {
      "text/plain": [
       "Date\n",
       "2015-12-24    39\n",
       "2015-12-28    42\n",
       "2015-12-29    40\n",
       "2015-12-30    43\n",
       "2015-12-31    44\n",
       "dtype: int64"
      ]
     },
     "execution_count": 8,
     "metadata": {},
     "output_type": "execute_result"
    }
   ],
   "source": [
    "daily_signal_counts = long_signals.abs().sum(axis=1)\n",
    "daily_signal_counts.tail()"
   ]
  },
  {
   "cell_type": "code",
   "execution_count": 9,
   "metadata": {},
   "outputs": [
    {
     "data": {
      "text/plain": [
       "Date        Sid           \n",
       "2015-12-31  FIBBG0027Y18M0    0.022727\n",
       "            FIBBG002832GV8    0.022727\n",
       "            FIBBG002WMH2F2    0.022727\n",
       "            FIBBG00449JPX5    0.022727\n",
       "            FIBBG00KXRCDP0    0.022727\n",
       "dtype: float64"
      ]
     },
     "execution_count": 9,
     "metadata": {},
     "output_type": "execute_result"
    }
   ],
   "source": [
    "weights = long_signals.div(daily_signal_counts, axis=0).fillna(0)\n",
    "weights.where(weights!=0).stack().tail()"
   ]
  },
  {
   "cell_type": "markdown",
   "metadata": {},
   "source": [
    "## Step 5: Rebalance before quarter-end\n",
    "\n",
    "The Alpha Architect white paper outlines a technique to potentially enhance momentum returns by rebalancing the portfolio a month or so before quarter-end. The intention is to benefit from window dressing behavior by portfolio managers who bid up the strongest performing stocks in the last month of the quarter in order to include them in their quarterly statements.  \n",
    "\n",
    "To accomplish this with pandas, we can resample the DataFrame of daily weights to quarterly using the `Q-NOV` frequency. `Q-NOV` is a quarterly frequency with a fiscal year ending November 30. We can use pandas' `date_range` function to see some sample dates:"
   ]
  },
  {
   "cell_type": "code",
   "execution_count": 10,
   "metadata": {},
   "outputs": [
    {
     "data": {
      "text/plain": [
       "DatetimeIndex(['2018-02-28', '2018-05-31', '2018-08-31', '2018-11-30'], dtype='datetime64[ns]', freq='Q-NOV')"
      ]
     },
     "execution_count": 10,
     "metadata": {},
     "output_type": "execute_result"
    }
   ],
   "source": [
    "import pandas as pd\n",
    "pd.date_range(start=\"2018-01-01\", freq=\"Q-NOV\", periods=4)"
   ]
  },
  {
   "cell_type": "markdown",
   "metadata": {},
   "source": [
    "Rebalancing on these dates will allow us to benefit from quarter-end window dressing. After resampling to `Q-NOV`, we take the last signal of the modified quarter, then reindex back to daily and fill forward:"
   ]
  },
  {
   "cell_type": "code",
   "execution_count": 11,
   "metadata": {},
   "outputs": [],
   "source": [
    "# Resample daily to Q-NOV, taking the last day's signal\n",
    "# For pandas offset aliases, see https://pandas.pydata.org/pandas-docs/stable/user_guide/timeseries.html#offset-aliases\n",
    "weights = weights.resample(\"Q-NOV\").last()\n",
    "\n",
    "# Reindex back to daily and fill forward\n",
    "weights = weights.reindex(closes.index, method=\"ffill\")"
   ]
  },
  {
   "cell_type": "markdown",
   "metadata": {},
   "source": [
    "## Step 6: Positions and returns\n",
    "\n",
    "The DataFrame of weights represents what we want to own, as calculated at the end of the day. Assuming we enter positions the next day, we simply shift the weights forward to simulate our positions:"
   ]
  },
  {
   "cell_type": "code",
   "execution_count": 12,
   "metadata": {},
   "outputs": [],
   "source": [
    "positions = weights.shift()"
   ]
  },
  {
   "cell_type": "markdown",
   "metadata": {},
   "source": [
    "To calculate the return (before costs), we multiply the security's percent change over the period by the size of the position.\n",
    "\n",
    "Since `positions` represents when we enter the position, we must shift `positions` forward  to get the \"end\" of the position, since that is when we collect the percent change, not when we first enter the position."
   ]
  },
  {
   "cell_type": "code",
   "execution_count": 13,
   "metadata": {},
   "outputs": [],
   "source": [
    "position_ends = positions.shift()\n",
    "gross_returns = closes.pct_change() * position_ends"
   ]
  },
  {
   "cell_type": "markdown",
   "metadata": {},
   "source": [
    "***\n",
    "\n",
    "## *Next Up*\n",
    "\n",
    "Part 2: [Moonshot Backtest](Part2-Moonshot-Backtest.ipynb)"
   ]
  }
 ],
 "metadata": {
  "kernelspec": {
   "display_name": "Python 3.9",
   "language": "python",
   "name": "python3"
  },
  "language_info": {
   "codemirror_mode": {
    "name": "ipython",
    "version": 3
   },
   "file_extension": ".py",
   "mimetype": "text/x-python",
   "name": "python",
   "nbconvert_exporter": "python",
   "pygments_lexer": "ipython3",
   "version": "3.9.7"
  }
 },
 "nbformat": 4,
 "nbformat_minor": 4
}
